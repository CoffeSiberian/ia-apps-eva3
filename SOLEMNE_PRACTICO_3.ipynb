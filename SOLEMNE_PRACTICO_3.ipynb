{
  "nbformat": 4,
  "nbformat_minor": 0,
  "metadata": {
    "colab": {
      "provenance": [],
      "collapsed_sections": [
        "WBfKJacBObQV"
      ],
      "gpuType": "T4"
    },
    "kernelspec": {
      "name": "python3",
      "display_name": "Python 3"
    },
    "language_info": {
      "name": "python"
    },
    "accelerator": "GPU"
  },
  "cells": [
    {
      "cell_type": "markdown",
      "source": [
        "## **Instalamos las dependencias necesarias**\n",
        "\n",
        "*(ultralytics no esta por defecto así que toca descargarlo a través de PIP)*"
      ],
      "metadata": {
        "id": "bjmztNpSNoer"
      }
    },
    {
      "cell_type": "code",
      "execution_count": null,
      "metadata": {
        "id": "8BewpcyMgwp1"
      },
      "outputs": [],
      "source": [
        "!pip install ultralytics\n",
        "\n",
        "from ultralytics import YOLO\n",
        "import cv2"
      ]
    },
    {
      "cell_type": "markdown",
      "source": [
        "## **Cargamos nuestro Drive donde tendremos nuestro YAML con las configuraciones y nuestro DATASET para entrenar**"
      ],
      "metadata": {
        "id": "7EoQGBgFOGG-"
      }
    },
    {
      "cell_type": "code",
      "source": [
        "from google.colab import drive\n",
        "drive.mount('/content/drive')"
      ],
      "metadata": {
        "id": "q0Bj4to3mSYU"
      },
      "execution_count": null,
      "outputs": []
    },
    {
      "cell_type": "markdown",
      "source": [
        "## *(Opcional)* **Utilizar ffmpeg para crear el DATASET de imágenes y separarlos para entrenamiento y prueba**"
      ],
      "metadata": {
        "id": "WBfKJacBObQV"
      }
    },
    {
      "cell_type": "code",
      "source": [
        "!apt-get install ffmpeg\n",
        "\n",
        "!ffmpeg -i /content/drive/MyDrive/dev/dataset/test-video.mp4 -vf \"fps=5\" /content/fotogramas/frame_%04d.jpg"
      ],
      "metadata": {
        "id": "QuUeEPHgr8zh"
      },
      "execution_count": null,
      "outputs": []
    },
    {
      "cell_type": "code",
      "source": [
        "import os\n",
        "import random\n",
        "import shutil\n",
        "\n",
        "# Directorios de origen y destino\n",
        "source_dir = \"/content/fotogramas\"\n",
        "train_dir = \"/content/fotogramas/train\"\n",
        "val_dir = \"/content/fotogramas/val\"\n",
        "\n",
        "# Crear directorios si no existen\n",
        "os.makedirs(train_dir, exist_ok=True)\n",
        "os.makedirs(val_dir, exist_ok=True)\n",
        "\n",
        "# Obtener la lista de archivos de imagen\n",
        "image_files = [f for f in os.listdir(source_dir) if f.startswith(\"frame_\") and f.endswith(\".jpg\")]\n",
        "\n",
        "# Calcular el número de imágenes para el conjunto de entrenamiento\n",
        "num_train = int(0.8 * len(image_files))\n",
        "\n",
        "# Mezclar aleatoriamente la lista de archivos\n",
        "random.shuffle(image_files)\n",
        "\n",
        "# Dividir los archivos en conjuntos de entrenamiento y validación\n",
        "train_files = image_files[:num_train]\n",
        "val_files = image_files[num_train:]\n",
        "\n",
        "# Mover los archivos a los directorios correspondientes\n",
        "for file in train_files:\n",
        "  source_path = os.path.join(source_dir, file)\n",
        "  destination_path = os.path.join(train_dir, file)\n",
        "  shutil.move(source_path, destination_path)\n",
        "\n",
        "for file in val_files:\n",
        "  source_path = os.path.join(source_dir, file)\n",
        "  destination_path = os.path.join(val_dir, file)\n",
        "  shutil.move(source_path, destination_path)"
      ],
      "metadata": {
        "id": "RtF7xHOg3QMq"
      },
      "execution_count": null,
      "outputs": []
    },
    {
      "cell_type": "markdown",
      "source": [
        "## **Cargamos un modelo BASE de YOLO para luego empezar con el entrenamiento**\n",
        "\n",
        "Recordar que el **ball_data.yaml** tiene informacion primordial para el entrenamiento\n",
        "\n",
        "```\n",
        "path: /content/drive/MyDrive/dev/dataset\n",
        "train: train/images\n",
        "val: val/images\n",
        "\n",
        "nc: 1\n",
        "names: ['sports ball']\n",
        "\n",
        "```\n",
        "En este caso todo el contenido de entrenamiento está dentro de mi cuenta de Google Drive en: **/dev/dataset**, pero en Colab seria **/content/drive/MyDrive/dev/dataset** una vez montada la unidad de Drive en Colab\n"
      ],
      "metadata": {
        "id": "aQZNTE8IOwKl"
      }
    },
    {
      "cell_type": "code",
      "source": [
        "model = YOLO('yolov8m.pt') # yolov8n.pt | yolov8s.pt | yolov8m.pt\n",
        "\n",
        "model.train(\n",
        "    data='/content/drive/MyDrive/dev/dataset/ball_data.yaml',\n",
        "    epochs=50,                          # Número de épocas\n",
        "    batch=16,                           # Tamaño del lote\n",
        "    imgsz=720,                          # Tamaño de las imágenes\n",
        "    project='sports_tracking',          # Carpeta donde se guardará el proyecto\n",
        "    name='yolo_ball_tracking',          # Nombre del experimento\n",
        "    pretrained=True                     # Usar pesos preentrenados\n",
        ")"
      ],
      "metadata": {
        "id": "AqqFKRjPyqMq"
      },
      "execution_count": null,
      "outputs": []
    },
    {
      "cell_type": "markdown",
      "source": [
        "## **Probamos el modelo recién entrenado** *(o cargamos uno ya pre-entrenado)*"
      ],
      "metadata": {
        "id": "lFNoz-G5PMOj"
      }
    },
    {
      "cell_type": "code",
      "source": [
        "model = YOLO('/content/sports_tracking/yolo_ball_tracking/weights/best.pt') # Aquí tenemos que señalar la ubicación de nuestro modelo recién entrenado o pre-entrenado para probarlo\n",
        "\n",
        "results = model.predict(\n",
        "    source='/content/drive/MyDrive/dev/dataset/test-video.mp4',\n",
        "    conf=0.4, # Umbral de confianza\n",
        "    save=True,\n",
        "    save_txt=True\n",
        ")"
      ],
      "metadata": {
        "id": "9iHoWILky2fI"
      },
      "execution_count": null,
      "outputs": []
    },
    {
      "cell_type": "markdown",
      "source": [
        "## **Probamos de forma visual** *(con imagenes)* **el resultado del entrenamiento**"
      ],
      "metadata": {
        "id": "8Mc2AgxlPhGg"
      }
    },
    {
      "cell_type": "code",
      "source": [
        "import cv2\n",
        "from ultralytics import YOLO\n",
        "from google.colab.patches import cv2_imshow\n",
        "from IPython.display import clear_output\n",
        "\n",
        "model = YOLO('/content/sports_tracking/yolo_ball_tracking/weights/best.pt')\n",
        "\n",
        "cap = cv2.VideoCapture('/content/drive/MyDrive/dev/dataset/test-video.mp4')\n",
        "while cap.isOpened():\n",
        "    ret, frame = cap.read()\n",
        "    if not ret:\n",
        "        break\n",
        "\n",
        "    # Realizar predicciones\n",
        "    results = model(frame, conf=0.4) # Realizar predicción con el modelo\n",
        "\n",
        "    # Dibujar las detecciones\n",
        "    for result in results:\n",
        "        for box in result.boxes:\n",
        "            x1, y1, x2, y2 = map(int, box.xyxy[0]) # Coordenadas\n",
        "            confidence = box.conf[0]  # Confianza\n",
        "            label = f\"ball {confidence:.2f}\" # Etiqueta\n",
        "\n",
        "            # Dibujar el rectángulo y la etiqueta\n",
        "            cv2.rectangle(frame, (x1, y1), (x2, y2), (0, 255, 0), 2)\n",
        "            cv2.putText(frame, label, (x1, y1 - 10), cv2.FONT_HERSHEY_SIMPLEX, 0.5, (0, 255, 0), 2)\n",
        "\n",
        "    cv2_imshow(frame)\n",
        "\n",
        "cap.release()\n",
        "cv2.destroyAllWindows()"
      ],
      "metadata": {
        "id": "wQcMYe9B1DBn"
      },
      "execution_count": null,
      "outputs": []
    }
  ]
}